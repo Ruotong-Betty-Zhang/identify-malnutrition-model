{
 "cells": [
  {
   "cell_type": "code",
   "execution_count": 4,
   "metadata": {},
   "outputs": [],
   "source": [
    "import msoffcrypto\n",
    "import pandas as pd\n",
    "import io\n",
    "import matplotlib.pyplot as plt\n",
    "import numpy as np\n",
    "from datetime import datetime\n",
    "import locale\n",
    "from utils import calculate_age, drop_columns, average_fill_empty, calculate_malnutrition, drop_cap_nutrition_rows, generate_gender_column_and_carelevel, check_missing_values, fill_missing_by_idno_and_mode\n",
    "from dotenv import load_dotenv\n",
    "import os\n",
    "\n",
    "# Reading an encrypted Excel file\n",
    "encrypted_file_path = \"./datasets/InterRAI Pt 4 2505.xlsx\"\n",
    "target_folder = \"./datasets/\"\n",
    "# Use password in .env\n",
    "load_dotenv()\n",
    "# Reading an encrypted Excel file\n",
    "# encrypted_file_path = os.getenv(\"CSV_PATH\")\n",
    "password = os.getenv(\"PASSWORD\")\n",
    "\n",
    "\n",
    "with open(encrypted_file_path, \"rb\") as f:\n",
    "    office_file = msoffcrypto.OfficeFile(f)\n",
    "    office_file.load_key(password=password)\n",
    "    # Decrypt the file\n",
    "    decrypted = io.BytesIO()\n",
    "    office_file.decrypt(decrypted)\n",
    "\n",
    "    dfs = pd.read_excel(decrypted, sheet_name=None, engine=\"openpyxl\")\n",
    "basic_info_df = dfs[\"Staying Upright InterRAI\"]\n",
    "extra_info_df = dfs[\"Staying Upright demo2\"]"
   ]
  },
  {
   "cell_type": "code",
   "execution_count": 5,
   "metadata": {},
   "outputs": [
    {
     "name": "stdout",
     "output_type": "stream",
     "text": [
      "    IDno        Age\n",
      "0  01001  87.166667\n",
      "1  01001  87.750000\n",
      "2  01001  87.916667\n",
      "3  01001  88.083333\n",
      "4  01001  88.416667\n",
      "5  01001  88.916667\n",
      "6  01001  89.416667\n",
      "7  01002  84.250000\n",
      "8  01002  84.666667\n",
      "9  01002  85.166667\n",
      "   CareLevel  Gender\n",
      "0        1.0     2.0\n",
      "1        3.0     2.0\n",
      "2        3.0     1.0\n",
      "3        3.0     1.0\n",
      "4        3.0     1.0\n",
      "5        1.0     2.0\n",
      "6        3.0     1.0\n",
      "7        1.0     2.0\n",
      "8        1.0     2.0\n",
      "9        3.0     2.0\n"
     ]
    }
   ],
   "source": [
    "# Preprocess the DataFrames\n",
    "df = calculate_age(basic_info_df, extra_info_df)\n",
    "df = generate_gender_column_and_carelevel(basic_info_df, extra_info_df)\n",
    "# # Check for missing values\n",
    "# columns_to_check = ['iJ1g', 'iJ1h', 'iJ1i', 'iJ12', 'iK1ab', 'iK1bb']\n",
    "# check_missing_values(columns_to_check, df)\n",
    "df = drop_columns(df)"
   ]
  },
  {
   "cell_type": "code",
   "execution_count": 6,
   "metadata": {},
   "outputs": [],
   "source": [
    "# Generate cap df\n",
    "cap_df = drop_cap_nutrition_rows(df)\n",
    "cap_df = fill_missing_by_idno_and_mode(cap_df)\n",
    "cap_df = calculate_malnutrition(cap_df)\n",
    "cap_df.to_pickle(target_folder + 'cap_data.pkl')\n",
    "# df = pd.read_pickle(target_folder + 'cap_data.pkl')"
   ]
  },
  {
   "cell_type": "code",
   "execution_count": 7,
   "metadata": {},
   "outputs": [],
   "source": [
    "# Generate mal df\n",
    "mal_df = fill_missing_by_idno_and_mode(df)\n",
    "mal_df = calculate_malnutrition(df)\n",
    "mal_df = mal_df.drop(columns=[\"iK2a\", \"iK2g\", \"iG3\", \"iE2a\", \"iE2b\", \"iE2c\", \"iI1c\", \"iI1d\", \"CAP_Nutrition\"])\n",
    "mal_df.to_pickle(target_folder + 'mal_data.pkl')\n",
    "# mal_df = pd.read_pickle(target_folder + 'mal_data.pkl')"
   ]
  }
 ],
 "metadata": {
  "kernelspec": {
   "display_name": "base",
   "language": "python",
   "name": "python3"
  },
  "language_info": {
   "codemirror_mode": {
    "name": "ipython",
    "version": 3
   },
   "file_extension": ".py",
   "mimetype": "text/x-python",
   "name": "python",
   "nbconvert_exporter": "python",
   "pygments_lexer": "ipython3",
   "version": "3.12.4"
  }
 },
 "nbformat": 4,
 "nbformat_minor": 5
}
